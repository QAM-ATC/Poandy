{
 "cells": [
  {
   "cell_type": "code",
   "execution_count": 69,
   "metadata": {},
   "outputs": [],
   "source": [
    "import json\n",
    "import requests"
   ]
  },
  {
   "cell_type": "code",
   "execution_count": 70,
   "metadata": {},
   "outputs": [],
   "source": [
    "def load_config():\n",
    "    with open(\"config.json\") as f:\n",
    "        config = json.load(f)\n",
    "    with open(config[\"secrets_path\"]) as f:\n",
    "        secrets = json.load(f)\n",
    "    \n",
    "    config.update(secrets)\n",
    "    return config"
   ]
  },
  {
   "cell_type": "code",
   "execution_count": 71,
   "metadata": {},
   "outputs": [],
   "source": [
    "def get_authorization(config):\n",
    "    token = config[\"token\"]\n",
    "    return {\"Authorization\": f\"Bearer {token}\"}"
   ]
  },
  {
   "cell_type": "code",
   "execution_count": 72,
   "metadata": {},
   "outputs": [],
   "source": [
    "def request(endpoint, headers, method):\n",
    "    if method == \"GET\":\n",
    "        return requests.get(endpoint, headers=headers).json()"
   ]
  },
  {
   "cell_type": "code",
   "execution_count": 73,
   "metadata": {},
   "outputs": [],
   "source": [
    "def get_account_id(config):\n",
    "    url = f\"{config['base_url']}/v3/accounts\"\n",
    "    headers = get_authorization(config)\n",
    "    return request(url, headers, \"GET\")[\"accounts\"][0][\"id\"]"
   ]
  },
  {
   "cell_type": "code",
   "execution_count": 74,
   "metadata": {},
   "outputs": [],
   "source": [
    "def get_account_details(config, account_id):\n",
    "    url = f\"{config['base_url']}/v3/accounts/{account_id}\"\n",
    "    headers = get_authorization(config)\n",
    "    return request(url, headers, \"GET\")"
   ]
  },
  {
   "cell_type": "code",
   "execution_count": 83,
   "metadata": {},
   "outputs": [],
   "source": [
    "def get_account_summary(config, account_id):\n",
    "    url = f\"{config['base_url']}/v3/accounts/{account_id}/summary\"\n",
    "    headers = get_authorization(config)\n",
    "    return request(url, headers, \"GET\")"
   ]
  },
  {
   "cell_type": "code",
   "execution_count": 88,
   "metadata": {},
   "outputs": [],
   "source": [
    "def get_tradeable_instruments(config, account_id):\n",
    "    url = f\"{config['base_url']}/v3/accounts/{account_id}/instruments\"\n",
    "    headers = get_authorization(config)\n",
    "    return request(url, headers, \"GET\")"
   ]
  },
  {
   "cell_type": "code",
   "execution_count": 75,
   "metadata": {},
   "outputs": [],
   "source": [
    "config = load_config()"
   ]
  },
  {
   "cell_type": "code",
   "execution_count": 77,
   "metadata": {},
   "outputs": [],
   "source": [
    "account_id = get_account_id(config)"
   ]
  },
  {
   "cell_type": "code",
   "execution_count": 79,
   "metadata": {},
   "outputs": [],
   "source": [
    "account_details = get_account_details(config, account_id)"
   ]
  },
  {
   "cell_type": "code",
   "execution_count": 85,
   "metadata": {},
   "outputs": [],
   "source": [
    "account_summary = get_account_summary(config, account_id)"
   ]
  },
  {
   "cell_type": "code",
   "execution_count": 91,
   "metadata": {},
   "outputs": [],
   "source": [
    "tradeable_instruments = get_tradeable_instruments(config, account_id)"
   ]
  },
  {
   "cell_type": "code",
   "execution_count": 94,
   "metadata": {},
   "outputs": [
    {
     "data": {
      "text/plain": [
       "'3'"
      ]
     },
     "execution_count": 94,
     "metadata": {},
     "output_type": "execute_result"
    }
   ],
   "source": []
  },
  {
   "cell_type": "code",
   "execution_count": null,
   "metadata": {},
   "outputs": [],
   "source": []
  }
 ],
 "metadata": {
  "kernelspec": {
   "display_name": "Python 3",
   "language": "python",
   "name": "python3"
  },
  "language_info": {
   "codemirror_mode": {
    "name": "ipython",
    "version": 3
   },
   "file_extension": ".py",
   "mimetype": "text/x-python",
   "name": "python",
   "nbconvert_exporter": "python",
   "pygments_lexer": "ipython3",
   "version": "3.7.5"
  }
 },
 "nbformat": 4,
 "nbformat_minor": 2
}
