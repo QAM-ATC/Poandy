{
 "cells": [
  {
   "cell_type": "code",
   "execution_count": 2,
   "metadata": {},
   "outputs": [],
   "source": [
    "from poandy.controller.order import OrderController\n",
    "from poandy.controller.account import AccountController"
   ]
  },
  {
   "cell_type": "code",
   "execution_count": 2,
   "metadata": {},
   "outputs": [
    {
     "data": {
      "text/plain": [
       "{'accounts': [{'id': '101-003-15455169-001', 'tags': []}]}"
      ]
     },
     "execution_count": 2,
     "metadata": {},
     "output_type": "execute_result"
    }
   ],
   "source": [
    "AccountController.get_accounts()"
   ]
  },
  {
   "cell_type": "code",
   "execution_count": 18,
   "metadata": {},
   "outputs": [
    {
     "data": {
      "text/plain": [
       "{'orderCreateTransaction': {'type': 'MARKET_ORDER',\n",
       "  'instrument': 'EUR_USD',\n",
       "  'units': '-1000000',\n",
       "  'timeInForce': 'FOK',\n",
       "  'positionFill': 'DEFAULT',\n",
       "  'reason': 'CLIENT_ORDER',\n",
       "  'id': '93',\n",
       "  'accountID': '101-003-15455169-001',\n",
       "  'userID': 15455169,\n",
       "  'batchID': '93',\n",
       "  'requestID': '24719224302263382',\n",
       "  'time': '2020-08-27T19:03:58.618516103Z'},\n",
       " 'orderFillTransaction': {'type': 'ORDER_FILL',\n",
       "  'orderID': '93',\n",
       "  'instrument': 'EUR_USD',\n",
       "  'units': '-1000000',\n",
       "  'requestedUnits': '-1000000',\n",
       "  'price': '1.18269',\n",
       "  'pl': '0.0000',\n",
       "  'financing': '0.0000',\n",
       "  'commission': '0.0000',\n",
       "  'accountBalance': '100092.6646',\n",
       "  'gainQuoteHomeConversionFactor': '1.35896105',\n",
       "  'lossQuoteHomeConversionFactor': '1.37261895',\n",
       "  'guaranteedExecutionFee': '0.0000',\n",
       "  'halfSpreadCost': '54.6316',\n",
       "  'fullVWAP': '1.18269',\n",
       "  'reason': 'MARKET_ORDER',\n",
       "  'tradeOpened': {'price': '1.18269',\n",
       "   'tradeID': '94',\n",
       "   'units': '-1000000',\n",
       "   'guaranteedExecutionFee': '0.0000',\n",
       "   'halfSpreadCost': '54.6316',\n",
       "   'initialMarginRequired': '80769.0000'},\n",
       "  'fullPrice': {'closeoutBid': '1.18265',\n",
       "   'closeoutAsk': '1.18281',\n",
       "   'timestamp': '2020-08-27T19:03:56.461420268Z',\n",
       "   'bids': [{'price': '1.18269', 'liquidity': '1000000'},\n",
       "    {'price': '1.18268', 'liquidity': '2000000'},\n",
       "    {'price': '1.18267', 'liquidity': '2000000'},\n",
       "    {'price': '1.18265', 'liquidity': '5000000'}],\n",
       "   'asks': [{'price': '1.18277', 'liquidity': '1000000'},\n",
       "    {'price': '1.18279', 'liquidity': '2000000'},\n",
       "    {'price': '1.18280', 'liquidity': '2000000'},\n",
       "    {'price': '1.18281', 'liquidity': '5000000'}]},\n",
       "  'id': '94',\n",
       "  'accountID': '101-003-15455169-001',\n",
       "  'userID': 15455169,\n",
       "  'batchID': '93',\n",
       "  'requestID': '24719224302263382',\n",
       "  'time': '2020-08-27T19:03:58.618516103Z'},\n",
       " 'relatedTransactionIDs': ['93', '94'],\n",
       " 'lastTransactionID': '94'}"
      ]
     },
     "execution_count": 18,
     "metadata": {},
     "output_type": "execute_result"
    }
   ],
   "source": [
    "OrderController.create_order(\n",
    "    \"101-003-15455169-001\",\n",
    "    \"MARKET\",\n",
    "    \"-1000000\",\n",
    "    \"EUR_USD\",\n",
    "    \"FOK\",\n",
    "    \"DEFAULT\"\n",
    ")"
   ]
  },
  {
   "cell_type": "code",
   "execution_count": 14,
   "metadata": {},
   "outputs": [
    {
     "data": {
      "text/plain": [
       "{'orders': [], 'lastTransactionID': '81'}"
      ]
     },
     "execution_count": 14,
     "metadata": {},
     "output_type": "execute_result"
    }
   ],
   "source": [
    "OrderController.get_orders(\"101-003-15455169-001\")"
   ]
  },
  {
   "cell_type": "code",
   "execution_count": 15,
   "metadata": {},
   "outputs": [
    {
     "data": {
      "text/plain": [
       "{'orders': [], 'lastTransactionID': '81'}"
      ]
     },
     "execution_count": 15,
     "metadata": {},
     "output_type": "execute_result"
    }
   ],
   "source": [
    "OrderController.get_pending_orders(\"101-003-15455169-001\")"
   ]
  },
  {
   "cell_type": "code",
   "execution_count": null,
   "metadata": {},
   "outputs": [],
   "source": []
  }
 ],
 "metadata": {
  "kernelspec": {
   "display_name": "Python 3",
   "language": "python",
   "name": "python3"
  },
  "language_info": {
   "codemirror_mode": {
    "name": "ipython",
    "version": 3
   },
   "file_extension": ".py",
   "mimetype": "text/x-python",
   "name": "python",
   "nbconvert_exporter": "python",
   "pygments_lexer": "ipython3",
   "version": "3.8.5"
  }
 },
 "nbformat": 4,
 "nbformat_minor": 4
}
