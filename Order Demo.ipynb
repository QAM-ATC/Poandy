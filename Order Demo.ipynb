{
 "cells": [
  {
   "cell_type": "code",
   "execution_count": 1,
   "metadata": {},
   "outputs": [],
   "source": [
    "from poandy.controller.order import OrderController\n",
    "from poandy.controller.account import AccountController"
   ]
  },
  {
   "cell_type": "code",
   "execution_count": 2,
   "metadata": {},
   "outputs": [],
   "source": [
    "account_id = AccountController.get_default_account_id()"
   ]
  },
  {
   "cell_type": "code",
   "execution_count": 3,
   "metadata": {},
   "outputs": [
    {
     "data": {
      "text/plain": [
       "{'orderCreateTransaction': {'type': 'MARKET_ORDER',\n",
       "  'instrument': 'EUR_USD',\n",
       "  'units': '-1000000',\n",
       "  'timeInForce': 'FOK',\n",
       "  'positionFill': 'DEFAULT',\n",
       "  'reason': 'CLIENT_ORDER',\n",
       "  'id': '107',\n",
       "  'accountID': '101-003-15455169-001',\n",
       "  'userID': 15455169,\n",
       "  'batchID': '107',\n",
       "  'requestID': '60748026511685456',\n",
       "  'time': '2020-08-27T19:24:36.015591546Z'},\n",
       " 'orderFillTransaction': {'type': 'ORDER_FILL',\n",
       "  'orderID': '107',\n",
       "  'instrument': 'EUR_USD',\n",
       "  'units': '-1000000',\n",
       "  'requestedUnits': '-1000000',\n",
       "  'price': '1.18242',\n",
       "  'pl': '0.0000',\n",
       "  'financing': '0.0000',\n",
       "  'commission': '0.0000',\n",
       "  'accountBalance': '99708.3076',\n",
       "  'gainQuoteHomeConversionFactor': '1.35894115',\n",
       "  'lossQuoteHomeConversionFactor': '1.37259885',\n",
       "  'guaranteedExecutionFee': '0.0000',\n",
       "  'halfSpreadCost': '47.8020',\n",
       "  'fullVWAP': '1.18242',\n",
       "  'reason': 'MARKET_ORDER',\n",
       "  'tradeOpened': {'price': '1.18242',\n",
       "   'tradeID': '108',\n",
       "   'units': '-1000000',\n",
       "   'guaranteedExecutionFee': '0.0000',\n",
       "   'halfSpreadCost': '47.8020',\n",
       "   'initialMarginRequired': '80748.0000'},\n",
       "  'fullPrice': {'closeoutBid': '1.18238',\n",
       "   'closeoutAsk': '1.18253',\n",
       "   'timestamp': '2020-08-27T19:24:27.357808095Z',\n",
       "   'bids': [{'price': '1.18242', 'liquidity': '1000000'},\n",
       "    {'price': '1.18241', 'liquidity': '2000000'},\n",
       "    {'price': '1.18240', 'liquidity': '2000000'},\n",
       "    {'price': '1.18238', 'liquidity': '5000000'}],\n",
       "   'asks': [{'price': '1.18249', 'liquidity': '1000000'},\n",
       "    {'price': '1.18251', 'liquidity': '2000000'},\n",
       "    {'price': '1.18252', 'liquidity': '2000000'},\n",
       "    {'price': '1.18253', 'liquidity': '5000000'}]},\n",
       "  'id': '108',\n",
       "  'accountID': '101-003-15455169-001',\n",
       "  'userID': 15455169,\n",
       "  'batchID': '107',\n",
       "  'requestID': '60748026511685456',\n",
       "  'time': '2020-08-27T19:24:36.015591546Z'},\n",
       " 'relatedTransactionIDs': ['107', '108'],\n",
       " 'lastTransactionID': '108'}"
      ]
     },
     "execution_count": 3,
     "metadata": {},
     "output_type": "execute_result"
    }
   ],
   "source": [
    "OrderController.create_order(\n",
    "    account_id,\n",
    "    \"MARKET\",\n",
    "    \"-1000000\",\n",
    "    \"EUR_USD\",\n",
    "    \"FOK\",\n",
    "    \"DEFAULT\"\n",
    ")"
   ]
  },
  {
   "cell_type": "code",
   "execution_count": 4,
   "metadata": {},
   "outputs": [
    {
     "data": {
      "text/plain": [
       "{'orders': [], 'lastTransactionID': '108'}"
      ]
     },
     "execution_count": 4,
     "metadata": {},
     "output_type": "execute_result"
    }
   ],
   "source": [
    "OrderController.get_orders(account_id)"
   ]
  },
  {
   "cell_type": "code",
   "execution_count": 5,
   "metadata": {},
   "outputs": [
    {
     "data": {
      "text/plain": [
       "{'orders': [], 'lastTransactionID': '108'}"
      ]
     },
     "execution_count": 5,
     "metadata": {},
     "output_type": "execute_result"
    }
   ],
   "source": [
    "OrderController.get_pending_orders(account_id)"
   ]
  },
  {
   "cell_type": "code",
   "execution_count": null,
   "metadata": {},
   "outputs": [],
   "source": []
  }
 ],
 "metadata": {
  "kernelspec": {
   "display_name": "Python 3",
   "language": "python",
   "name": "python3"
  },
  "language_info": {
   "codemirror_mode": {
    "name": "ipython",
    "version": 3
   },
   "file_extension": ".py",
   "mimetype": "text/x-python",
   "name": "python",
   "nbconvert_exporter": "python",
   "pygments_lexer": "ipython3",
   "version": "3.8.5"
  }
 },
 "nbformat": 4,
 "nbformat_minor": 4
}
