{
 "cells": [
  {
   "cell_type": "code",
   "execution_count": 1,
   "metadata": {},
   "outputs": [],
   "source": [
    "from poandy.controller.order import OrderController\n",
    "from poandy.controller.account import AccountController"
   ]
  },
  {
   "cell_type": "code",
   "execution_count": 2,
   "metadata": {},
   "outputs": [],
   "source": [
    "account_id = AccountController.get_default_account_id()"
   ]
  },
  {
   "cell_type": "code",
   "execution_count": 3,
   "metadata": {},
   "outputs": [
    {
     "data": {
      "text/plain": [
       "{'orderCreateTransaction': {'type': 'MARKET_ORDER',\n",
       "  'instrument': 'EUR_USD',\n",
       "  'units': '-1000000',\n",
       "  'timeInForce': 'FOK',\n",
       "  'positionFill': 'DEFAULT',\n",
       "  'reason': 'CLIENT_ORDER',\n",
       "  'id': '188',\n",
       "  'accountID': '101-003-15455169-001',\n",
       "  'userID': 15455169,\n",
       "  'batchID': '188',\n",
       "  'requestID': '60748273110876255',\n",
       "  'time': '1598615069.954048928'},\n",
       " 'orderFillTransaction': {'type': 'ORDER_FILL',\n",
       "  'orderID': '188',\n",
       "  'instrument': 'EUR_USD',\n",
       "  'units': '-1000000',\n",
       "  'requestedUnits': '-1000000',\n",
       "  'price': '1.19100',\n",
       "  'pl': '0.0000',\n",
       "  'financing': '0.0000',\n",
       "  'commission': '0.0000',\n",
       "  'accountBalance': '99443.7808',\n",
       "  'gainQuoteHomeConversionFactor': '1.35291145',\n",
       "  'lossQuoteHomeConversionFactor': '1.36650855',\n",
       "  'guaranteedExecutionFee': '0.0000',\n",
       "  'halfSpreadCost': '101.9782',\n",
       "  'fullVWAP': '1.19100',\n",
       "  'reason': 'MARKET_ORDER',\n",
       "  'tradeOpened': {'price': '1.19100',\n",
       "   'tradeID': '189',\n",
       "   'units': '-1000000',\n",
       "   'guaranteedExecutionFee': '0.0000',\n",
       "   'halfSpreadCost': '101.9782',\n",
       "   'initialMarginRequired': '80976.0000'},\n",
       "  'fullPrice': {'closeoutBid': '1.19096',\n",
       "   'closeoutAsk': '1.19119',\n",
       "   'timestamp': '1598615069.550435776',\n",
       "   'bids': [{'price': '1.19100', 'liquidity': '1000000'},\n",
       "    {'price': '1.19099', 'liquidity': '2000000'},\n",
       "    {'price': '1.19098', 'liquidity': '2000000'},\n",
       "    {'price': '1.19096', 'liquidity': '5000000'}],\n",
       "   'asks': [{'price': '1.19115', 'liquidity': '1000000'},\n",
       "    {'price': '1.19117', 'liquidity': '2000000'},\n",
       "    {'price': '1.19118', 'liquidity': '2000000'},\n",
       "    {'price': '1.19119', 'liquidity': '5000000'}]},\n",
       "  'id': '189',\n",
       "  'accountID': '101-003-15455169-001',\n",
       "  'userID': 15455169,\n",
       "  'batchID': '188',\n",
       "  'requestID': '60748273110876255',\n",
       "  'time': '1598615069.954048928'},\n",
       " 'relatedTransactionIDs': ['188', '189'],\n",
       " 'lastTransactionID': '189'}"
      ]
     },
     "execution_count": 3,
     "metadata": {},
     "output_type": "execute_result"
    }
   ],
   "source": [
    "OrderController.create_order(\n",
    "    account_id,\n",
    "    \"MARKET\",\n",
    "    \"-1000000\",\n",
    "    \"EUR_USD\",\n",
    "    \"FOK\",\n",
    "    \"DEFAULT\"\n",
    ")"
   ]
  },
  {
   "cell_type": "code",
   "execution_count": 4,
   "metadata": {},
   "outputs": [
    {
     "data": {
      "text/plain": [
       "{'orders': [], 'lastTransactionID': '189'}"
      ]
     },
     "execution_count": 4,
     "metadata": {},
     "output_type": "execute_result"
    }
   ],
   "source": [
    "OrderController.get_orders(account_id)"
   ]
  },
  {
   "cell_type": "code",
   "execution_count": 5,
   "metadata": {},
   "outputs": [
    {
     "data": {
      "text/plain": [
       "{'orders': [], 'lastTransactionID': '189'}"
      ]
     },
     "execution_count": 5,
     "metadata": {},
     "output_type": "execute_result"
    }
   ],
   "source": [
    "OrderController.get_pending_orders(account_id)"
   ]
  },
  {
   "cell_type": "code",
   "execution_count": null,
   "metadata": {},
   "outputs": [],
   "source": []
  }
 ],
 "metadata": {
  "kernelspec": {
   "display_name": "Python 3",
   "language": "python",
   "name": "python3"
  },
  "language_info": {
   "codemirror_mode": {
    "name": "ipython",
    "version": 3
   },
   "file_extension": ".py",
   "mimetype": "text/x-python",
   "name": "python",
   "nbconvert_exporter": "python",
   "pygments_lexer": "ipython3",
   "version": "3.8.5"
  }
 },
 "nbformat": 4,
 "nbformat_minor": 4
}
