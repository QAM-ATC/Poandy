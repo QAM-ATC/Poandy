{
 "cells": [
  {
   "cell_type": "code",
   "execution_count": 1,
   "metadata": {},
   "outputs": [],
   "source": [
    "from poandy.controller.order import OrderController\n",
    "from poandy.controller.account import AccountController"
   ]
  },
  {
   "cell_type": "code",
   "execution_count": 2,
   "metadata": {},
   "outputs": [
    {
     "data": {
      "text/plain": [
       "{'accounts': [{'id': '101-003-15455169-001', 'tags': []}]}"
      ]
     },
     "execution_count": 2,
     "metadata": {},
     "output_type": "execute_result"
    }
   ],
   "source": [
    "AccountController.get_accounts()"
   ]
  },
  {
   "cell_type": "code",
   "execution_count": 3,
   "metadata": {},
   "outputs": [
    {
     "data": {
      "text/plain": [
       "{'orderCreateTransaction': {'type': 'MARKET_ORDER',\n",
       "  'instrument': 'EUR_USD',\n",
       "  'units': '100',\n",
       "  'timeInForce': 'FOK',\n",
       "  'positionFill': 'DEFAULT',\n",
       "  'reason': 'CLIENT_ORDER',\n",
       "  'id': '6',\n",
       "  'accountID': '101-003-15455169-001',\n",
       "  'userID': 15455169,\n",
       "  'batchID': '6',\n",
       "  'requestID': '60747991249963020',\n",
       "  'time': '2020-08-27T17:04:29.825496143Z'},\n",
       " 'orderFillTransaction': {'type': 'ORDER_FILL',\n",
       "  'orderID': '6',\n",
       "  'instrument': 'EUR_USD',\n",
       "  'units': '100',\n",
       "  'requestedUnits': '100',\n",
       "  'price': '1.18024',\n",
       "  'pl': '0.0000',\n",
       "  'financing': '0.0000',\n",
       "  'commission': '0.0000',\n",
       "  'accountBalance': '100000.0000',\n",
       "  'gainQuoteHomeConversionFactor': '1.36070230',\n",
       "  'lossQuoteHomeConversionFactor': '1.37437770',\n",
       "  'guaranteedExecutionFee': '0.0000',\n",
       "  'halfSpreadCost': '0.0055',\n",
       "  'fullVWAP': '1.18024',\n",
       "  'reason': 'MARKET_ORDER',\n",
       "  'tradeOpened': {'price': '1.18024',\n",
       "   'tradeID': '7',\n",
       "   'units': '100',\n",
       "   'guaranteedExecutionFee': '0.0000',\n",
       "   'halfSpreadCost': '0.0055',\n",
       "   'initialMarginRequired': '8.0699'},\n",
       "  'fullPrice': {'closeoutBid': '1.18012',\n",
       "   'closeoutAsk': '1.18028',\n",
       "   'timestamp': '2020-08-27T17:04:29.348603195Z',\n",
       "   'bids': [{'price': '1.18016', 'liquidity': '1000000'},\n",
       "    {'price': '1.18015', 'liquidity': '2000000'},\n",
       "    {'price': '1.18014', 'liquidity': '2000000'},\n",
       "    {'price': '1.18012', 'liquidity': '5000000'}],\n",
       "   'asks': [{'price': '1.18024', 'liquidity': '1000000'},\n",
       "    {'price': '1.18026', 'liquidity': '2000000'},\n",
       "    {'price': '1.18027', 'liquidity': '2000000'},\n",
       "    {'price': '1.18028', 'liquidity': '5000000'}]},\n",
       "  'id': '7',\n",
       "  'accountID': '101-003-15455169-001',\n",
       "  'userID': 15455169,\n",
       "  'batchID': '6',\n",
       "  'requestID': '60747991249963020',\n",
       "  'time': '2020-08-27T17:04:29.825496143Z'},\n",
       " 'relatedTransactionIDs': ['6', '7'],\n",
       " 'lastTransactionID': '7'}"
      ]
     },
     "execution_count": 3,
     "metadata": {},
     "output_type": "execute_result"
    }
   ],
   "source": [
    "OrderController.create_order(\n",
    "    \"101-003-15455169-001\",\n",
    "    \"MARKET\",\n",
    "    \"100\",\n",
    "    \"EUR_USD\",\n",
    "    \"FOK\",\n",
    "    \"DEFAULT\"\n",
    ")"
   ]
  },
  {
   "cell_type": "code",
   "execution_count": null,
   "metadata": {},
   "outputs": [],
   "source": []
  }
 ],
 "metadata": {
  "kernelspec": {
   "display_name": "Python 3",
   "language": "python",
   "name": "python3"
  },
  "language_info": {
   "codemirror_mode": {
    "name": "ipython",
    "version": 3
   },
   "file_extension": ".py",
   "mimetype": "text/x-python",
   "name": "python",
   "nbconvert_exporter": "python",
   "pygments_lexer": "ipython3",
   "version": "3.8.5"
  }
 },
 "nbformat": 4,
 "nbformat_minor": 4
}
