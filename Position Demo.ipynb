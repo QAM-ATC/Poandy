{
 "cells": [
  {
   "cell_type": "code",
   "execution_count": 1,
   "metadata": {},
   "outputs": [],
   "source": [
    "from poandy.controller.position import PositionController\n",
    "from poandy.controller.account import AccountController\n",
    "from poandy.controller.order import OrderController"
   ]
  },
  {
   "cell_type": "code",
   "execution_count": 2,
   "metadata": {},
   "outputs": [],
   "source": [
    "account_id = AccountController.get_default_account_id()"
   ]
  },
  {
   "cell_type": "code",
   "execution_count": 3,
   "metadata": {},
   "outputs": [
    {
     "data": {
      "text/plain": [
       "{'positions': [{'instrument': 'EUR_USD',\n",
       "   'long': {'units': '0',\n",
       "    'pl': '-95.2310',\n",
       "    'resettablePL': '-95.2310',\n",
       "    'financing': '0.0000',\n",
       "    'dividendAdjustment': '0.0000',\n",
       "    'guaranteedExecutionFees': '0.0000',\n",
       "    'unrealizedPL': '0.0000'},\n",
       "   'short': {'units': '0',\n",
       "    'pl': '-365.3361',\n",
       "    'resettablePL': '-365.3361',\n",
       "    'financing': '0.0000',\n",
       "    'dividendAdjustment': '0.0000',\n",
       "    'guaranteedExecutionFees': '0.0000',\n",
       "    'unrealizedPL': '0.0000'},\n",
       "   'pl': '-460.5671',\n",
       "   'resettablePL': '-460.5671',\n",
       "   'financing': '0.0000',\n",
       "   'commission': '0.0000',\n",
       "   'dividendAdjustment': '0.0000',\n",
       "   'guaranteedExecutionFees': '0.0000',\n",
       "   'unrealizedPL': '0.0000',\n",
       "   'marginUsed': '0.0000'}],\n",
       " 'lastTransactionID': '183'}"
      ]
     },
     "execution_count": 3,
     "metadata": {},
     "output_type": "execute_result"
    }
   ],
   "source": [
    "PositionController.get_positions(account_id)"
   ]
  },
  {
   "cell_type": "code",
   "execution_count": 4,
   "metadata": {},
   "outputs": [
    {
     "data": {
      "text/plain": [
       "{'positions': [], 'lastTransactionID': '183'}"
      ]
     },
     "execution_count": 4,
     "metadata": {},
     "output_type": "execute_result"
    }
   ],
   "source": [
    "PositionController.get_open_positions(account_id)"
   ]
  },
  {
   "cell_type": "code",
   "execution_count": 5,
   "metadata": {},
   "outputs": [
    {
     "data": {
      "text/plain": [
       "{'orderCreateTransaction': {'type': 'MARKET_ORDER',\n",
       "  'instrument': 'EUR_USD',\n",
       "  'units': '-1000000',\n",
       "  'timeInForce': 'FOK',\n",
       "  'positionFill': 'DEFAULT',\n",
       "  'reason': 'CLIENT_ORDER',\n",
       "  'id': '184',\n",
       "  'accountID': '101-003-15455169-001',\n",
       "  'userID': 15455169,\n",
       "  'batchID': '184',\n",
       "  'requestID': '42733874495226488',\n",
       "  'time': '1598615044.166204557'},\n",
       " 'orderFillTransaction': {'type': 'ORDER_FILL',\n",
       "  'orderID': '184',\n",
       "  'instrument': 'EUR_USD',\n",
       "  'units': '-1000000',\n",
       "  'requestedUnits': '-1000000',\n",
       "  'price': '1.19115',\n",
       "  'pl': '0.0000',\n",
       "  'financing': '0.0000',\n",
       "  'commission': '0.0000',\n",
       "  'accountBalance': '99539.4329',\n",
       "  'gainQuoteHomeConversionFactor': '1.35286170',\n",
       "  'lossQuoteHomeConversionFactor': '1.36645830',\n",
       "  'guaranteedExecutionFee': '0.0000',\n",
       "  'halfSpreadCost': '47.5881',\n",
       "  'fullVWAP': '1.19115',\n",
       "  'reason': 'MARKET_ORDER',\n",
       "  'tradeOpened': {'price': '1.19115',\n",
       "   'tradeID': '185',\n",
       "   'units': '-1000000',\n",
       "   'guaranteedExecutionFee': '0.0000',\n",
       "   'halfSpreadCost': '47.5881',\n",
       "   'initialMarginRequired': '80980.5000'},\n",
       "  'fullPrice': {'closeoutBid': '1.19111',\n",
       "   'closeoutAsk': '1.19126',\n",
       "   'timestamp': '1598615043.410089229',\n",
       "   'bids': [{'price': '1.19115', 'liquidity': '1000000'},\n",
       "    {'price': '1.19114', 'liquidity': '2000000'},\n",
       "    {'price': '1.19113', 'liquidity': '2000000'},\n",
       "    {'price': '1.19111', 'liquidity': '5000000'}],\n",
       "   'asks': [{'price': '1.19122', 'liquidity': '1000000'},\n",
       "    {'price': '1.19124', 'liquidity': '2000000'},\n",
       "    {'price': '1.19125', 'liquidity': '2000000'},\n",
       "    {'price': '1.19126', 'liquidity': '5000000'}]},\n",
       "  'id': '185',\n",
       "  'accountID': '101-003-15455169-001',\n",
       "  'userID': 15455169,\n",
       "  'batchID': '184',\n",
       "  'requestID': '42733874495226488',\n",
       "  'time': '1598615044.166204557'},\n",
       " 'relatedTransactionIDs': ['184', '185'],\n",
       " 'lastTransactionID': '185'}"
      ]
     },
     "execution_count": 5,
     "metadata": {},
     "output_type": "execute_result"
    }
   ],
   "source": [
    "OrderController.create_order(\n",
    "    account_id,\n",
    "    \"MARKET\",\n",
    "    \"-1000000\",\n",
    "    \"EUR_USD\",\n",
    "    \"FOK\",\n",
    "    \"DEFAULT\"\n",
    ")"
   ]
  },
  {
   "cell_type": "code",
   "execution_count": 6,
   "metadata": {},
   "outputs": [
    {
     "data": {
      "text/plain": [
       "{'shortOrderCreateTransaction': {'type': 'MARKET_ORDER',\n",
       "  'instrument': 'EUR_USD',\n",
       "  'units': '1000000',\n",
       "  'timeInForce': 'FOK',\n",
       "  'positionFill': 'REDUCE_ONLY',\n",
       "  'reason': 'POSITION_CLOSEOUT',\n",
       "  'shortPositionCloseout': {'instrument': 'EUR_USD', 'units': 'ALL'},\n",
       "  'id': '186',\n",
       "  'accountID': '101-003-15455169-001',\n",
       "  'userID': 15455169,\n",
       "  'batchID': '186',\n",
       "  'requestID': '60748273005964067',\n",
       "  'time': '1598615044.505031408'},\n",
       " 'shortOrderFillTransaction': {'type': 'ORDER_FILL',\n",
       "  'orderID': '186',\n",
       "  'instrument': 'EUR_USD',\n",
       "  'units': '1000000',\n",
       "  'requestedUnits': '1000000',\n",
       "  'price': '1.19122',\n",
       "  'pl': '-95.6521',\n",
       "  'financing': '0.0000',\n",
       "  'commission': '0.0000',\n",
       "  'accountBalance': '99443.7808',\n",
       "  'gainQuoteHomeConversionFactor': '1.35286170',\n",
       "  'lossQuoteHomeConversionFactor': '1.36645830',\n",
       "  'guaranteedExecutionFee': '0.0000',\n",
       "  'halfSpreadCost': '54.3864',\n",
       "  'fullVWAP': '1.19122',\n",
       "  'reason': 'MARKET_ORDER_POSITION_CLOSEOUT',\n",
       "  'tradesClosed': [{'tradeID': '185',\n",
       "    'units': '1000000',\n",
       "    'realizedPL': '-95.6521',\n",
       "    'financing': '0.0000',\n",
       "    'price': '1.19122',\n",
       "    'guaranteedExecutionFee': '0.0000',\n",
       "    'halfSpreadCost': '54.3864'}],\n",
       "  'fullPrice': {'closeoutBid': '1.19111',\n",
       "   'closeoutAsk': '1.19126',\n",
       "   'timestamp': '1598615043.410089229',\n",
       "   'bids': [{'price': '1.19114', 'liquidity': '2000000'},\n",
       "    {'price': '1.19113', 'liquidity': '2000000'},\n",
       "    {'price': '1.19111', 'liquidity': '5000000'}],\n",
       "   'asks': [{'price': '1.19122', 'liquidity': '1000000'},\n",
       "    {'price': '1.19124', 'liquidity': '2000000'},\n",
       "    {'price': '1.19125', 'liquidity': '2000000'},\n",
       "    {'price': '1.19126', 'liquidity': '5000000'}]},\n",
       "  'id': '187',\n",
       "  'accountID': '101-003-15455169-001',\n",
       "  'userID': 15455169,\n",
       "  'batchID': '186',\n",
       "  'requestID': '60748273005964067',\n",
       "  'time': '1598615044.505031408'},\n",
       " 'relatedTransactionIDs': ['186', '187'],\n",
       " 'lastTransactionID': '187'}"
      ]
     },
     "execution_count": 6,
     "metadata": {},
     "output_type": "execute_result"
    }
   ],
   "source": [
    "PositionController.close_instrument_positions(account_id, \"EUR_USD\", short_units=\"ALL\")"
   ]
  },
  {
   "cell_type": "code",
   "execution_count": null,
   "metadata": {},
   "outputs": [],
   "source": []
  }
 ],
 "metadata": {
  "kernelspec": {
   "display_name": "Python 3",
   "language": "python",
   "name": "python3"
  },
  "language_info": {
   "codemirror_mode": {
    "name": "ipython",
    "version": 3
   },
   "file_extension": ".py",
   "mimetype": "text/x-python",
   "name": "python",
   "nbconvert_exporter": "python",
   "pygments_lexer": "ipython3",
   "version": "3.8.5"
  }
 },
 "nbformat": 4,
 "nbformat_minor": 4
}
