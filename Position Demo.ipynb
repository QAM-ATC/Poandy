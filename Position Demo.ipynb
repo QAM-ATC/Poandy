{
 "cells": [
  {
   "cell_type": "code",
   "execution_count": 1,
   "metadata": {},
   "outputs": [],
   "source": [
    "from poandy.controller.position import PositionController\n",
    "from poandy.controller.account import AccountController"
   ]
  },
  {
   "cell_type": "code",
   "execution_count": 2,
   "metadata": {},
   "outputs": [
    {
     "data": {
      "text/plain": [
       "{'accounts': [{'id': '101-003-15455169-001', 'tags': []}]}"
      ]
     },
     "execution_count": 2,
     "metadata": {},
     "output_type": "execute_result"
    }
   ],
   "source": [
    "account_id = AccountController.get_default_account_id()"
   ]
  },
  {
   "cell_type": "code",
   "execution_count": 3,
   "metadata": {},
   "outputs": [
    {
     "data": {
      "text/plain": [
       "{'positions': [{'instrument': 'EUR_USD',\n",
       "   'long': {'units': '0',\n",
       "    'pl': '-49.9563',\n",
       "    'resettablePL': '-49.9563',\n",
       "    'financing': '0.0000',\n",
       "    'dividendAdjustment': '0.0000',\n",
       "    'guaranteedExecutionFees': '0.0000',\n",
       "    'unrealizedPL': '0.0000'},\n",
       "   'short': {'units': '-1000000',\n",
       "    'averagePrice': '1.18243',\n",
       "    'pl': '-77.0061',\n",
       "    'resettablePL': '-77.0061',\n",
       "    'financing': '0.0000',\n",
       "    'dividendAdjustment': '0.0000',\n",
       "    'guaranteedExecutionFees': '0.0000',\n",
       "    'tradeIDs': ['104'],\n",
       "    'unrealizedPL': '-137.2750'},\n",
       "   'pl': '-126.9624',\n",
       "   'resettablePL': '-126.9624',\n",
       "   'financing': '0.0000',\n",
       "   'commission': '0.0000',\n",
       "   'dividendAdjustment': '0.0000',\n",
       "   'guaranteedExecutionFees': '0.0000',\n",
       "   'unrealizedPL': '-137.2750',\n",
       "   'marginUsed': '80760.5000'}],\n",
       " 'lastTransactionID': '104'}"
      ]
     },
     "execution_count": 3,
     "metadata": {},
     "output_type": "execute_result"
    }
   ],
   "source": [
    "PositionController.get_positions(account_id)"
   ]
  },
  {
   "cell_type": "code",
   "execution_count": 4,
   "metadata": {},
   "outputs": [
    {
     "data": {
      "text/plain": [
       "{'positions': [{'instrument': 'EUR_USD',\n",
       "   'long': {'units': '0',\n",
       "    'pl': '-49.9563',\n",
       "    'resettablePL': '-49.9563',\n",
       "    'financing': '0.0000',\n",
       "    'dividendAdjustment': '0.0000',\n",
       "    'guaranteedExecutionFees': '0.0000',\n",
       "    'unrealizedPL': '0.0000'},\n",
       "   'short': {'units': '-1000000',\n",
       "    'averagePrice': '1.18243',\n",
       "    'pl': '-77.0061',\n",
       "    'resettablePL': '-77.0061',\n",
       "    'financing': '0.0000',\n",
       "    'dividendAdjustment': '0.0000',\n",
       "    'guaranteedExecutionFees': '0.0000',\n",
       "    'tradeIDs': ['104'],\n",
       "    'unrealizedPL': '-164.7300'},\n",
       "   'pl': '-126.9624',\n",
       "   'resettablePL': '-126.9624',\n",
       "   'financing': '0.0000',\n",
       "   'commission': '0.0000',\n",
       "   'dividendAdjustment': '0.0000',\n",
       "   'guaranteedExecutionFees': '0.0000',\n",
       "   'unrealizedPL': '-164.7300',\n",
       "   'marginUsed': '80760.5000'}],\n",
       " 'lastTransactionID': '104'}"
      ]
     },
     "execution_count": 4,
     "metadata": {},
     "output_type": "execute_result"
    }
   ],
   "source": [
    "PositionController.get_open_positions(account_id)"
   ]
  },
  {
   "cell_type": "code",
   "execution_count": 5,
   "metadata": {},
   "outputs": [
    {
     "data": {
      "text/plain": [
       "{'shortOrderCreateTransaction': {'type': 'MARKET_ORDER',\n",
       "  'instrument': 'EUR_USD',\n",
       "  'units': '1000000',\n",
       "  'timeInForce': 'FOK',\n",
       "  'positionFill': 'REDUCE_ONLY',\n",
       "  'reason': 'POSITION_CLOSEOUT',\n",
       "  'shortPositionCloseout': {'instrument': 'EUR_USD', 'units': 'ALL'},\n",
       "  'id': '105',\n",
       "  'accountID': '101-003-15455169-001',\n",
       "  'userID': 15455169,\n",
       "  'batchID': '105',\n",
       "  'requestID': '60748021878521576',\n",
       "  'time': '2020-08-27T19:06:11.708600266Z'},\n",
       " 'shortOrderFillTransaction': {'type': 'ORDER_FILL',\n",
       "  'orderID': '105',\n",
       "  'instrument': 'EUR_USD',\n",
       "  'units': '1000000',\n",
       "  'requestedUnits': '1000000',\n",
       "  'price': '1.18255',\n",
       "  'pl': '-164.7300',\n",
       "  'financing': '0.0000',\n",
       "  'commission': '0.0000',\n",
       "  'accountBalance': '99708.3076',\n",
       "  'gainQuoteHomeConversionFactor': '1.35909040',\n",
       "  'lossQuoteHomeConversionFactor': '1.37274960',\n",
       "  'guaranteedExecutionFee': '0.0000',\n",
       "  'halfSpreadCost': '54.6368',\n",
       "  'fullVWAP': '1.18255',\n",
       "  'reason': 'MARKET_ORDER_POSITION_CLOSEOUT',\n",
       "  'tradesClosed': [{'tradeID': '104',\n",
       "    'units': '1000000',\n",
       "    'realizedPL': '-164.7300',\n",
       "    'financing': '0.0000',\n",
       "    'price': '1.18255',\n",
       "    'guaranteedExecutionFee': '0.0000',\n",
       "    'halfSpreadCost': '54.6368'}],\n",
       "  'fullPrice': {'closeoutBid': '1.18243',\n",
       "   'closeoutAsk': '1.18259',\n",
       "   'timestamp': '2020-08-27T19:06:11.175221768Z',\n",
       "   'bids': [{'price': '1.18247', 'liquidity': '1000000'},\n",
       "    {'price': '1.18246', 'liquidity': '2000000'},\n",
       "    {'price': '1.18245', 'liquidity': '2000000'},\n",
       "    {'price': '1.18243', 'liquidity': '5000000'}],\n",
       "   'asks': [{'price': '1.18255', 'liquidity': '1000000'},\n",
       "    {'price': '1.18257', 'liquidity': '2000000'},\n",
       "    {'price': '1.18258', 'liquidity': '2000000'},\n",
       "    {'price': '1.18259', 'liquidity': '5000000'}]},\n",
       "  'id': '106',\n",
       "  'accountID': '101-003-15455169-001',\n",
       "  'userID': 15455169,\n",
       "  'batchID': '105',\n",
       "  'requestID': '60748021878521576',\n",
       "  'time': '2020-08-27T19:06:11.708600266Z'},\n",
       " 'relatedTransactionIDs': ['105', '106'],\n",
       " 'lastTransactionID': '106'}"
      ]
     },
     "execution_count": 5,
     "metadata": {},
     "output_type": "execute_result"
    }
   ],
   "source": [
    "PositionController.close_instrument_positions(account_id, \"EUR_USD\", short_units=\"ALL\")"
   ]
  },
  {
   "cell_type": "code",
   "execution_count": null,
   "metadata": {},
   "outputs": [],
   "source": []
  }
 ],
 "metadata": {
  "kernelspec": {
   "display_name": "Python 3",
   "language": "python",
   "name": "python3"
  },
  "language_info": {
   "codemirror_mode": {
    "name": "ipython",
    "version": 3
   },
   "file_extension": ".py",
   "mimetype": "text/x-python",
   "name": "python",
   "nbconvert_exporter": "python",
   "pygments_lexer": "ipython3",
   "version": "3.8.5"
  }
 },
 "nbformat": 4,
 "nbformat_minor": 4
}
