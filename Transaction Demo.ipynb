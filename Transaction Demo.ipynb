{
 "metadata": {
  "language_info": {
   "codemirror_mode": {
    "name": "ipython",
    "version": 3
   },
   "file_extension": ".py",
   "mimetype": "text/x-python",
   "name": "python",
   "nbconvert_exporter": "python",
   "pygments_lexer": "ipython3",
   "version": "3.8.5-final"
  },
  "orig_nbformat": 2,
  "kernelspec": {
   "name": "python3",
   "display_name": "Python 3",
   "language": "python"
  }
 },
 "nbformat": 4,
 "nbformat_minor": 2,
 "cells": [
  {
   "cell_type": "code",
   "execution_count": 1,
   "metadata": {},
   "outputs": [],
   "source": [
    "from poandy.controller.account import AccountController\n",
    "from poandy.controller.order import OrderController\n",
    "from poandy.controller.transaction import TransactionController"
   ]
  },
  {
   "cell_type": "code",
   "execution_count": 2,
   "metadata": {},
   "outputs": [],
   "source": [
    "account_id = AccountController.get_default_account_id()"
   ]
  },
  {
   "cell_type": "code",
   "execution_count": 3,
   "metadata": {},
   "outputs": [
    {
     "output_type": "execute_result",
     "data": {
      "text/plain": [
       "{'orderCreateTransaction': {'id': '10564',\n",
       "  'accountID': '101-003-16383467-001',\n",
       "  'userID': 16383467,\n",
       "  'batchID': '10564',\n",
       "  'requestID': '78831940910677955',\n",
       "  'time': '1615130155.042655715',\n",
       "  'type': 'MARKET_ORDER',\n",
       "  'instrument': 'EUR_USD',\n",
       "  'units': '-1000000',\n",
       "  'timeInForce': 'FOK',\n",
       "  'positionFill': 'DEFAULT',\n",
       "  'reason': 'CLIENT_ORDER'},\n",
       " 'orderCancelTransaction': {'id': '10565',\n",
       "  'accountID': '101-003-16383467-001',\n",
       "  'userID': 16383467,\n",
       "  'batchID': '10564',\n",
       "  'requestID': '78831940910677955',\n",
       "  'time': '1615130155.042655715',\n",
       "  'type': 'ORDER_CANCEL',\n",
       "  'orderID': '10564',\n",
       "  'reason': 'MARKET_HALTED'},\n",
       " 'relatedTransactionIDs': ['10564', '10565'],\n",
       " 'lastTransactionID': '10565'}"
      ]
     },
     "metadata": {},
     "execution_count": 3
    }
   ],
   "source": [
    "OrderController.create_order(\n",
    "    account_id,\n",
    "    \"MARKET\",\n",
    "    \"-1000000\",\n",
    "    \"EUR_USD\",\n",
    "    \"FOK\",\n",
    "    \"DEFAULT\"\n",
    ")"
   ]
  },
  {
   "source": [
    "# get_transactions\n",
    "Get a list of Transaction pages that satisfy a time-based Transaction query\n",
    "\n",
    "## account_id: (str), required\n",
    "\n",
    "\n",
    "## start_time: (DateTime), optional\n",
    " The starting time (inclusive) of the time range for the Transactions being queried. [default=Account Creation Time]\n",
    "\n",
    " Must be provided in Unix time. Python has a builtin module (datetime) for easy conversion to Unix time\n",
    "\n",
    "\n",
    "## end_time: (DateTime), optional\n",
    " The ending time (inclusive) of the time range for the Transactions being queried. [default=Request Time]\n",
    "\n",
    " Must be provided in Unix time. Python has a builtin module (datetime) for easy conversion to Unix time\n",
    " \n",
    " \n",
    " ## pageSize: (int), optional\n",
    " The number of Transactions to include in each page of the results. [default=100, maximum=1000]\n",
    " \n",
    " \n",
    " ## filter_types: (liststr), optional\n",
    " A list of strings filtering the types of Transactions to retrieve\n",
    "\n",
    " Must only contain strings included in the config.json file, listed under \"transaction_filters\"  [default=None] "
   ],
   "cell_type": "markdown",
   "metadata": {}
  },
  {
   "cell_type": "code",
   "execution_count": 4,
   "metadata": {},
   "outputs": [
    {
     "output_type": "execute_result",
     "data": {
      "text/plain": [
       "{'from': '1614525370.742216643',\n",
       " 'to': '1615130170.742216643',\n",
       " 'pageSize': 100,\n",
       " 'count': 79,\n",
       " 'pages': ['https://api-fxpractice.oanda.com/v3/accounts/101-003-16383467-001/transactions/idrange?from=10487&to=10565'],\n",
       " 'lastTransactionID': '10565'}"
      ]
     },
     "metadata": {},
     "execution_count": 4
    }
   ],
   "source": [
    "TransactionController.get_transactions(account_id)"
   ]
  },
  {
   "cell_type": "code",
   "execution_count": 5,
   "metadata": {},
   "outputs": [
    {
     "output_type": "execute_result",
     "data": {
      "text/plain": [
       "{'from': '1612933200.000000000',\n",
       " 'to': '1613278800.000000000',\n",
       " 'pageSize': 100,\n",
       " 'count': 28,\n",
       " 'pages': ['https://api-fxpractice.oanda.com/v3/accounts/101-003-16383467-001/transactions/idrange?from=10445&to=10472'],\n",
       " 'lastTransactionID': '10565'}"
      ]
     },
     "metadata": {},
     "execution_count": 5
    }
   ],
   "source": [
    "from datetime import date\n",
    "TransactionController.get_transactions(account_id, start_time=date.fromisoformat('2021-02-10'), end_time=date.fromisoformat('2021-02-14'))"
   ]
  },
  {
   "cell_type": "code",
   "execution_count": 6,
   "metadata": {},
   "outputs": [
    {
     "output_type": "execute_result",
     "data": {
      "text/plain": [
       "{'from': '1612933200.000000000',\n",
       " 'to': '1613278800.000000000',\n",
       " 'pageSize': 100,\n",
       " 'type': ['CREATE', 'ORDER'],\n",
       " 'count': 24,\n",
       " 'pages': ['https://api-fxpractice.oanda.com/v3/accounts/101-003-16383467-001/transactions/idrange?from=10448&to=10471&type=CREATE,ORDER'],\n",
       " 'lastTransactionID': '10565'}"
      ]
     },
     "metadata": {},
     "execution_count": 6
    }
   ],
   "source": [
    "TransactionController.get_transactions(account_id, start_time=date.fromisoformat('2021-02-10'), end_time=date.fromisoformat('2021-02-14'), filter_types=[\"ORDER\",\"CREATE\"])"
   ]
  },
  {
   "source": [
    "# get_transaction\n",
    "Get the details of a single Account Transaction\n",
    "\n",
    "## account_id: (str), required\n",
    "\n",
    "\n",
    "## transactionID: (str), required"
   ],
   "cell_type": "markdown",
   "metadata": {}
  },
  {
   "cell_type": "code",
   "execution_count": 7,
   "metadata": {},
   "outputs": [
    {
     "output_type": "execute_result",
     "data": {
      "text/plain": [
       "{'transaction': {'id': '10462',\n",
       "  'accountID': '101-003-16383467-001',\n",
       "  'userID': 16383467,\n",
       "  'batchID': '10462',\n",
       "  'requestID': '42795204806008215',\n",
       "  'time': '1613237330.882535746',\n",
       "  'type': 'MARKET_ORDER',\n",
       "  'instrument': 'EUR_USD',\n",
       "  'units': '-1000000',\n",
       "  'timeInForce': 'FOK',\n",
       "  'positionFill': 'DEFAULT',\n",
       "  'reason': 'CLIENT_ORDER'},\n",
       " 'lastTransactionID': '10565'}"
      ]
     },
     "metadata": {},
     "execution_count": 7
    }
   ],
   "source": [
    "TransactionController.get_transaction(account_id, \"10462\")"
   ]
  },
  {
   "source": [
    "# get_transactions_in_id_range\n",
    "Get a range of Transactions for an Account based on the Transaction IDs\n",
    "\n",
    "## account_id: (str), required\n",
    "\n",
    "## from_id: (str), required\n",
    " The starting Transaction ID (inclusive) to fetch\n",
    "\n",
    "\n",
    "## to_id: (str), required\n",
    " The ending Transaction ID (inclusive) to fetch\n",
    " \n",
    " ## filter_types: (liststr), optional\n",
    " A list of strings filtering the types of Transactions to retrieve\n",
    "\n",
    " Must only contain strings included in the config.json file, listed under \"transaction_filters\"  [default=None] "
   ],
   "cell_type": "markdown",
   "metadata": {}
  },
  {
   "cell_type": "code",
   "execution_count": 8,
   "metadata": {},
   "outputs": [
    {
     "output_type": "execute_result",
     "data": {
      "text/plain": [
       "{'transactions': [{'id': '10460',\n",
       "   'accountID': '101-003-16383467-001',\n",
       "   'userID': 16383467,\n",
       "   'batchID': '10460',\n",
       "   'requestID': '78824001610714241',\n",
       "   'time': '1613237279.654204371',\n",
       "   'type': 'MARKET_ORDER',\n",
       "   'instrument': 'EUR_USD',\n",
       "   'units': '-1000000',\n",
       "   'timeInForce': 'FOK',\n",
       "   'positionFill': 'DEFAULT',\n",
       "   'reason': 'CLIENT_ORDER'},\n",
       "  {'id': '10462',\n",
       "   'accountID': '101-003-16383467-001',\n",
       "   'userID': 16383467,\n",
       "   'batchID': '10462',\n",
       "   'requestID': '42795204806008215',\n",
       "   'time': '1613237330.882535746',\n",
       "   'type': 'MARKET_ORDER',\n",
       "   'instrument': 'EUR_USD',\n",
       "   'units': '-1000000',\n",
       "   'timeInForce': 'FOK',\n",
       "   'positionFill': 'DEFAULT',\n",
       "   'reason': 'CLIENT_ORDER'}],\n",
       " 'lastTransactionID': '10565'}"
      ]
     },
     "metadata": {},
     "execution_count": 8
    }
   ],
   "source": [
    "TransactionController.get_transactions_in_id_range(account_id, \"10460\", \"10463\", filter_types=[\"MARKET_ORDER\"])"
   ]
  },
  {
   "source": [
    "# get_transactions_since_id\n",
    "Get a range of Transactions for an Account starting at (but not including) a provided Transaction ID\n",
    "\n",
    "## account_id: (str), required\n",
    "\n",
    "## start_id: (str), required\n",
    " The starting Transaction ID (exclusive) to fetch\n",
    " \n",
    "## filter_types: (liststr), optional\n",
    " A list of strings filtering the types of Transactions to retrieve\n",
    "\n",
    " Must only contain strings included in the config.json file, listed under \"transaction_filters\"  [default=None] "
   ],
   "cell_type": "markdown",
   "metadata": {}
  },
  {
   "cell_type": "code",
   "execution_count": 9,
   "metadata": {},
   "outputs": [
    {
     "output_type": "execute_result",
     "data": {
      "text/plain": [
       "{'transactions': [{'id': '10562',\n",
       "   'accountID': '101-003-16383467-001',\n",
       "   'userID': 16383467,\n",
       "   'batchID': '10562',\n",
       "   'requestID': '78831846220431068',\n",
       "   'time': '1615107579.262669472',\n",
       "   'type': 'MARKET_ORDER',\n",
       "   'instrument': 'EUR_USD',\n",
       "   'units': '-1000000',\n",
       "   'timeInForce': 'FOK',\n",
       "   'positionFill': 'DEFAULT',\n",
       "   'reason': 'CLIENT_ORDER'},\n",
       "  {'id': '10564',\n",
       "   'accountID': '101-003-16383467-001',\n",
       "   'userID': 16383467,\n",
       "   'batchID': '10564',\n",
       "   'requestID': '78831940910677955',\n",
       "   'time': '1615130155.042655715',\n",
       "   'type': 'MARKET_ORDER',\n",
       "   'instrument': 'EUR_USD',\n",
       "   'units': '-1000000',\n",
       "   'timeInForce': 'FOK',\n",
       "   'positionFill': 'DEFAULT',\n",
       "   'reason': 'CLIENT_ORDER'}],\n",
       " 'lastTransactionID': '10565'}"
      ]
     },
     "metadata": {},
     "execution_count": 9
    }
   ],
   "source": [
    "TransactionController.get_transactions_since_id(account_id, start_id=\"10560\", filter_types=[\"MARKET_ORDER\"])"
   ]
  },
  {
   "cell_type": "code",
   "execution_count": 10,
   "metadata": {},
   "outputs": [
    {
     "output_type": "stream",
     "name": "stdout",
     "text": [
      "b'{\"type\":\"HEARTBEAT\",\"lastTransactionID\":\"10565\",\"time\":\"1615130236.090558033\"}'\n",
      "b'{\"type\":\"HEARTBEAT\",\"lastTransactionID\":\"10565\",\"time\":\"1615130236.155669621\"}'\n",
      "b'{\"type\":\"HEARTBEAT\",\"lastTransactionID\":\"10565\",\"time\":\"1615130240.158009721\"}'\n",
      "b'{\"type\":\"HEARTBEAT\",\"lastTransactionID\":\"10565\",\"time\":\"1615130244.160338078\"}'\n",
      "b'{\"type\":\"HEARTBEAT\",\"lastTransactionID\":\"10565\",\"time\":\"1615130248.162683701\"}'\n"
     ]
    }
   ],
   "source": [
    "with TransactionController.stream_transactions(account_id) as stream_response:\n",
    "    max_lines= 5\n",
    "\n",
    "    for line in stream_response.iter_lines():\n",
    "            print(line)\n",
    "            if (max_lines):\n",
    "                max_lines = max_lines - 1\n",
    "                if (max_lines <= 0):\n",
    "                    break\n"
   ]
  },
  {
   "cell_type": "code",
   "execution_count": null,
   "metadata": {},
   "outputs": [],
   "source": []
  }
 ]
}